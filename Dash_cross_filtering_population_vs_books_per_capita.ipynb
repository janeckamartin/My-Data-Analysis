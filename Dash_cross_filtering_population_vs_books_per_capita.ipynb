{
  "cells": [
    {
      "cell_type": "markdown",
      "metadata": {
        "id": "W2ga6wwq6OiE"
      },
      "source": [
        "## Cross-filtering in dash"
      ]
    },
    {
      "cell_type": "markdown",
      "metadata": {
        "id": "nYeuSZs_8plq"
      },
      "source": [
        "### Notebook preparation"
      ]
    },
    {
      "cell_type": "markdown",
      "metadata": {
        "id": "10Bxeeot6Uxi"
      },
      "source": [
        "Let's start by installing and importing the necessary libraries"
      ]
    },
    {
      "cell_type": "code",
      "execution_count": 1,
      "metadata": {
        "colab": {
          "base_uri": "https://localhost:8080/"
        },
        "collapsed": true,
        "id": "FmaZ2sHS2KXi",
        "outputId": "9db6ed73-3386-4ab1-c802-7d2cd8707e85"
      },
      "outputs": [
        {
          "output_type": "stream",
          "name": "stdout",
          "text": [
            "Collecting dash\n",
            "  Downloading dash-3.0.2-py3-none-any.whl.metadata (10 kB)\n",
            "Collecting Flask<3.1,>=1.0.4 (from dash)\n",
            "  Downloading flask-3.0.3-py3-none-any.whl.metadata (3.2 kB)\n",
            "Collecting Werkzeug<3.1 (from dash)\n",
            "  Downloading werkzeug-3.0.6-py3-none-any.whl.metadata (3.7 kB)\n",
            "Requirement already satisfied: plotly>=5.0.0 in /usr/local/lib/python3.11/dist-packages (from dash) (5.24.1)\n",
            "Requirement already satisfied: importlib-metadata in /usr/local/lib/python3.11/dist-packages (from dash) (8.6.1)\n",
            "Requirement already satisfied: typing-extensions>=4.1.1 in /usr/local/lib/python3.11/dist-packages (from dash) (4.13.0)\n",
            "Requirement already satisfied: requests in /usr/local/lib/python3.11/dist-packages (from dash) (2.32.3)\n",
            "Collecting retrying (from dash)\n",
            "  Downloading retrying-1.3.4-py3-none-any.whl.metadata (6.9 kB)\n",
            "Requirement already satisfied: nest-asyncio in /usr/local/lib/python3.11/dist-packages (from dash) (1.6.0)\n",
            "Requirement already satisfied: setuptools in /usr/local/lib/python3.11/dist-packages (from dash) (75.2.0)\n",
            "Requirement already satisfied: Jinja2>=3.1.2 in /usr/local/lib/python3.11/dist-packages (from Flask<3.1,>=1.0.4->dash) (3.1.6)\n",
            "Requirement already satisfied: itsdangerous>=2.1.2 in /usr/local/lib/python3.11/dist-packages (from Flask<3.1,>=1.0.4->dash) (2.2.0)\n",
            "Requirement already satisfied: click>=8.1.3 in /usr/local/lib/python3.11/dist-packages (from Flask<3.1,>=1.0.4->dash) (8.1.8)\n",
            "Requirement already satisfied: blinker>=1.6.2 in /usr/local/lib/python3.11/dist-packages (from Flask<3.1,>=1.0.4->dash) (1.9.0)\n",
            "Requirement already satisfied: tenacity>=6.2.0 in /usr/local/lib/python3.11/dist-packages (from plotly>=5.0.0->dash) (9.1.2)\n",
            "Requirement already satisfied: packaging in /usr/local/lib/python3.11/dist-packages (from plotly>=5.0.0->dash) (24.2)\n",
            "Requirement already satisfied: MarkupSafe>=2.1.1 in /usr/local/lib/python3.11/dist-packages (from Werkzeug<3.1->dash) (3.0.2)\n",
            "Requirement already satisfied: zipp>=3.20 in /usr/local/lib/python3.11/dist-packages (from importlib-metadata->dash) (3.21.0)\n",
            "Requirement already satisfied: charset-normalizer<4,>=2 in /usr/local/lib/python3.11/dist-packages (from requests->dash) (3.4.1)\n",
            "Requirement already satisfied: idna<4,>=2.5 in /usr/local/lib/python3.11/dist-packages (from requests->dash) (3.10)\n",
            "Requirement already satisfied: urllib3<3,>=1.21.1 in /usr/local/lib/python3.11/dist-packages (from requests->dash) (2.3.0)\n",
            "Requirement already satisfied: certifi>=2017.4.17 in /usr/local/lib/python3.11/dist-packages (from requests->dash) (2025.1.31)\n",
            "Requirement already satisfied: six>=1.7.0 in /usr/local/lib/python3.11/dist-packages (from retrying->dash) (1.17.0)\n",
            "Downloading dash-3.0.2-py3-none-any.whl (7.9 MB)\n",
            "\u001b[2K   \u001b[90m━━━━━━━━━━━━━━━━━━━━━━━━━━━━━━━━━━━━━━━━\u001b[0m \u001b[32m7.9/7.9 MB\u001b[0m \u001b[31m23.3 MB/s\u001b[0m eta \u001b[36m0:00:00\u001b[0m\n",
            "\u001b[?25hDownloading flask-3.0.3-py3-none-any.whl (101 kB)\n",
            "\u001b[2K   \u001b[90m━━━━━━━━━━━━━━━━━━━━━━━━━━━━━━━━━━━━━━━━\u001b[0m \u001b[32m101.7/101.7 kB\u001b[0m \u001b[31m3.4 MB/s\u001b[0m eta \u001b[36m0:00:00\u001b[0m\n",
            "\u001b[?25hDownloading werkzeug-3.0.6-py3-none-any.whl (227 kB)\n",
            "\u001b[2K   \u001b[90m━━━━━━━━━━━━━━━━━━━━━━━━━━━━━━━━━━━━━━━━\u001b[0m \u001b[32m228.0/228.0 kB\u001b[0m \u001b[31m11.9 MB/s\u001b[0m eta \u001b[36m0:00:00\u001b[0m\n",
            "\u001b[?25hDownloading retrying-1.3.4-py3-none-any.whl (11 kB)\n",
            "Installing collected packages: Werkzeug, retrying, Flask, dash\n",
            "  Attempting uninstall: Werkzeug\n",
            "    Found existing installation: Werkzeug 3.1.3\n",
            "    Uninstalling Werkzeug-3.1.3:\n",
            "      Successfully uninstalled Werkzeug-3.1.3\n",
            "  Attempting uninstall: Flask\n",
            "    Found existing installation: Flask 3.1.0\n",
            "    Uninstalling Flask-3.1.0:\n",
            "      Successfully uninstalled Flask-3.1.0\n",
            "Successfully installed Flask-3.0.3 Werkzeug-3.0.6 dash-3.0.2 retrying-1.3.4\n"
          ]
        }
      ],
      "source": [
        "!pip install dash"
      ]
    },
    {
      "cell_type": "code",
      "execution_count": 3,
      "metadata": {
        "id": "timT-qnW2aXg"
      },
      "outputs": [],
      "source": [
        "import dash\n",
        "import json\n",
        "import pandas as pd\n",
        "import numpy as np\n",
        "import plotly.express as px\n",
        "import threading\n",
        "from dash import dcc, html, Input, Output\n",
        "from google.colab import output, drive"
      ]
    },
    {
      "cell_type": "code",
      "execution_count": 4,
      "metadata": {
        "colab": {
          "base_uri": "https://localhost:8080/"
        },
        "id": "5YRMNtiRHz9-",
        "outputId": "fcfd6a6c-599e-4316-9ac0-b9c774ae1d9c"
      },
      "outputs": [
        {
          "output_type": "stream",
          "name": "stdout",
          "text": [
            "Mounted at /content/drive\n"
          ]
        }
      ],
      "source": [
        "drive.mount('/content/drive')"
      ]
    },
    {
      "cell_type": "markdown",
      "metadata": {
        "id": "dDUGR24R8tha"
      },
      "source": [
        "### Creating the visualization"
      ]
    },
    {
      "cell_type": "markdown",
      "metadata": {
        "id": "J1CYsUcUsCzn"
      },
      "source": [
        "#### Supporting solutions"
      ]
    },
    {
      "cell_type": "markdown",
      "metadata": {
        "id": "RlLmRPmYk2_n"
      },
      "source": [
        "Preparing the needed data"
      ]
    },
    {
      "cell_type": "code",
      "execution_count": 5,
      "metadata": {
        "id": "WwiE1VJQHTlg"
      },
      "outputs": [],
      "source": [
        "population = pd.read_csv('/content/drive/My Drive/population.csv')\n",
        "new_books = pd.read_csv(\"/content/drive/My Drive/new-books-per-million.csv\")\n",
        "new_books = new_books[(new_books[\"Year\"]>=1940) & (new_books[\"Year\"]<=1996)]\n",
        "selected_books = new_books[new_books[\"Year\"]==1996][[\"Entity\", \"Book titles per capita (Fink-Jensen 2015)\"]]\n",
        "selected_pops = population[population[\"Year\"]==1996][[\"Entity\", \"Population (historical estimates)\"]]\n",
        "data = pd.merge(selected_books, selected_pops, how=\"inner\", on=\"Entity\")"
      ]
    },
    {
      "cell_type": "markdown",
      "metadata": {
        "id": "LuocsUhlk7p_"
      },
      "source": [
        "Creacting the chart used in the application"
      ]
    },
    {
      "cell_type": "code",
      "execution_count": 6,
      "metadata": {
        "colab": {
          "base_uri": "https://localhost:8080/",
          "height": 542
        },
        "id": "fow3oHgBQ6Zx",
        "outputId": "ae9b22ea-c211-4d82-cd12-f20c1c5f5853"
      },
      "outputs": [
        {
          "output_type": "display_data",
          "data": {
            "text/html": [
              "<html>\n",
              "<head><meta charset=\"utf-8\" /></head>\n",
              "<body>\n",
              "    <div>            <script src=\"https://cdnjs.cloudflare.com/ajax/libs/mathjax/2.7.5/MathJax.js?config=TeX-AMS-MML_SVG\"></script><script type=\"text/javascript\">if (window.MathJax && window.MathJax.Hub && window.MathJax.Hub.Config) {window.MathJax.Hub.Config({SVG: {font: \"STIX-Web\"}});}</script>                <script type=\"text/javascript\">window.PlotlyConfig = {MathJaxConfig: 'local'};</script>\n",
              "        <script charset=\"utf-8\" src=\"https://cdn.plot.ly/plotly-2.35.2.min.js\"></script>                <div id=\"676f956a-a680-4566-9ebb-841ce2be7ea7\" class=\"plotly-graph-div\" style=\"height:525px; width:100%;\"></div>            <script type=\"text/javascript\">                                    window.PLOTLYENV=window.PLOTLYENV || {};                                    if (document.getElementById(\"676f956a-a680-4566-9ebb-841ce2be7ea7\")) {                    Plotly.newPlot(                        \"676f956a-a680-4566-9ebb-841ce2be7ea7\",                        [{\"hovertemplate\":\"Book titles per capita (Fink-Jensen 2015)=%{x}\\u003cbr\\u003ePopulation (historical estimates)=%{y}\\u003cbr\\u003eEntity=%{text}\\u003cextra\\u003e\\u003c\\u002fextra\\u003e\",\"legendgroup\":\"\",\"marker\":{\"color\":\"#1F77B4\",\"symbol\":\"circle\"},\"mode\":\"markers+text\",\"name\":\"\",\"orientation\":\"v\",\"showlegend\":false,\"text\":[\"Algeria\",\"Argentina\",\"Austria\",\"Belgium\",\"Brazil\",\"Bulgaria\",\"Canada\",\"Croatia\",\"Cyprus\",\"Denmark\",\"Egypt\",\"Estonia\",\"Finland\",\"France\",\"Germany\",\"Greece\",\"Hungary\",\"Iceland\",\"India\",\"Indonesia\",\"Italy\",\"Japan\",\"Jordan\",\"Latvia\",\"Lithuania\",\"Malaysia\",\"Mexico\",\"Morocco\",\"Netherlands\",\"North Macedonia\",\"Norway\",\"Philippines\",\"Poland\",\"Portugal\",\"Romania\",\"Russia\",\"Saudi Arabia\",\"Slovenia\",\"South Korea\",\"Spain\",\"Sweden\",\"Switzerland\",\"Thailand\",\"Tunisia\",\"Turkey\",\"United Kingdom\",\"United States\"],\"x\":[23.423261410169832,276.041812627862,985.4721152738148,1148.548561175463,113.69411028021626,593.0626859907076,662.7589422500499,384.8540444396655,1259.0553835448231,3151.9885216383277,29.62564451424166,1840.5591153550115,2559.2200472237027,818.9760090695387,873.2985408459305,403.1711678699776,894.8185692811793,5676.579925650557,12.734676235594184,20.39989533148654,614.2203766093389,447.45800342680513,117.10691379968624,798.6905539498194,993.6439499759564,291.3841550253469,65.4988673081615,32.73155758572031,3313.667755702044,452.538732140701,4810.013153699253,20.27286495993089,365.1063341134039,779.0162256762877,318.1518185653408,242.26625546007577,189.0829240617281,1714.132853515616,670.5159845604716,1163.9583719445684,2673.1139011424048,1517.3323470301727,136.70407319037355,79.04393723120944,103.87541462690564,1403.1708638595187,252.81143466100428],\"xaxis\":\"x\",\"y\":[29266415,35246376,8017852,10208265,164614682,8291969,29457820,4574888,873426,5254857,63601632,1417741,5136984,58012055,81323666,10832139,10332451,270144,982365248,199901231,57065231,126644099,4732848,2478832,3603756,21017619,93147045,27383472,15563252,1989441,4393217,71401743,38509672,10134016,22805706,148020852,19033843,1988580,45751023,39908962,8859180,7038027,60130190,9267335,59423278,58113554,268335007],\"yaxis\":\"y\",\"type\":\"scatter\",\"textposition\":\"bottom right\"}],                        {\"template\":{\"data\":{\"scatter\":[{\"type\":\"scatter\"}]}},\"xaxis\":{\"anchor\":\"y\",\"domain\":[0.0,1.0],\"title\":{\"text\":\"Book titles per capita (Fink-Jensen 2015)\"},\"type\":\"log\"},\"yaxis\":{\"anchor\":\"x\",\"domain\":[0.0,1.0],\"title\":{\"text\":\"Population (historical estimates)\"},\"type\":\"log\"},\"legend\":{\"tracegroupgap\":0},\"title\":{\"text\":\"Country population vs number of new book titles per capita in 1996\"}},                        {\"responsive\": true}                    ).then(function(){\n",
              "                            \n",
              "var gd = document.getElementById('676f956a-a680-4566-9ebb-841ce2be7ea7');\n",
              "var x = new MutationObserver(function (mutations, observer) {{\n",
              "        var display = window.getComputedStyle(gd).display;\n",
              "        if (!display || display === 'none') {{\n",
              "            console.log([gd, 'removed!']);\n",
              "            Plotly.purge(gd);\n",
              "            observer.disconnect();\n",
              "        }}\n",
              "}});\n",
              "\n",
              "// Listen for the removal of the full notebook cells\n",
              "var notebookContainer = gd.closest('#notebook-container');\n",
              "if (notebookContainer) {{\n",
              "    x.observe(notebookContainer, {childList: true});\n",
              "}}\n",
              "\n",
              "// Listen for the clearing of the current output cell\n",
              "var outputEl = gd.closest('.output');\n",
              "if (outputEl) {{\n",
              "    x.observe(outputEl, {childList: true});\n",
              "}}\n",
              "\n",
              "                        })                };                            </script>        </div>\n",
              "</body>\n",
              "</html>"
            ]
          },
          "metadata": {}
        }
      ],
      "source": [
        "scatter_figure = px.scatter(data_frame=data,\n",
        "                 x=\"Book titles per capita (Fink-Jensen 2015)\",\n",
        "                 y=\"Population (historical estimates)\",\n",
        "                 text=\"Entity\",\n",
        "                 log_x=True,\n",
        "                 log_y=True,\n",
        "                 template=\"none\",\n",
        "                 title=\"Country population vs number of new book titles per capita in 1996\")\n",
        "scatter_figure.update_traces(textposition=\"bottom right\")"
      ]
    },
    {
      "cell_type": "markdown",
      "metadata": {
        "id": "nCC2INKaGVdh"
      },
      "source": [
        "Below, we have the code of the first application used in the **dash crossfiltering** presentation."
      ]
    },
    {
      "cell_type": "code",
      "execution_count": 7,
      "metadata": {
        "id": "AVo_oiLvDkxo"
      },
      "outputs": [],
      "source": [
        "app = dash.Dash()\n",
        "app.layout = html.Div(\n",
        "        children=[\n",
        "                  html.P(id='div_value'),\n",
        "                  dcc.Graph(id='scatter', figure=scatter_figure),\n",
        "                  ],\n",
        ")\n",
        "\n",
        "@app.callback(\n",
        "    Output('div_value', 'children'),\n",
        "    Input('scatter', 'hoverData')\n",
        ")\n",
        "def show_me(data):\n",
        "   return json.dumps(data)"
      ]
    },
    {
      "cell_type": "markdown",
      "metadata": {
        "id": "WnqL_0dFlKEc"
      },
      "source": [
        "Below, we have the code of the second application used in the **dash crossfiltering** presentation."
      ]
    },
    {
      "cell_type": "code",
      "execution_count": 8,
      "metadata": {
        "id": "mbLKjo7YjV8X"
      },
      "outputs": [],
      "source": [
        "app = dash.Dash()\n",
        "app.layout = html.Div(\n",
        "    children=[\n",
        "              dcc.Graph(\n",
        "                  id='scatter',\n",
        "                  figure=scatter_figure\n",
        "                  ),\n",
        "              dcc.Graph(id='line')\n",
        "              ],\n",
        ")\n",
        "\n",
        "@app.callback(\n",
        "    Output('line', 'figure'),\n",
        "    Input('scatter','hoverData')\n",
        ")\n",
        "def build_line_chart(country):\n",
        "\n",
        "  selected_country = country[\"points\"][0][\"text\"]\n",
        "  selected_data = new_books[new_books[\"Entity\"]==selected_country]\n",
        "\n",
        "  fig = px.line(data_frame=selected_data,\n",
        "                x=\"Year\",\n",
        "                y=\"Book titles per capita (Fink-Jensen 2015)\",\n",
        "                template=\"none\",\n",
        "                title=\"Book titles per capita in %s for years 1940-1996\" % selected_country\n",
        "                )\n",
        "  return fig"
      ]
    },
    {
      "cell_type": "markdown",
      "metadata": {
        "id": "88JUU3UV9lPy"
      },
      "source": [
        "### Displaying the visualization"
      ]
    },
    {
      "cell_type": "markdown",
      "metadata": {
        "id": "T7om4tW49rvR"
      },
      "source": [
        "To build the visualization using the code above, we also need to run a server and go to the application page.\n"
      ]
    },
    {
      "cell_type": "code",
      "execution_count": 10,
      "metadata": {
        "id": "Mj8cDlQv32hQ",
        "colab": {
          "base_uri": "https://localhost:8080/",
          "height": 421
        },
        "outputId": "fb47d33f-40c0-45de-9dd4-5fc2499809b4"
      },
      "outputs": [
        {
          "output_type": "display_data",
          "data": {
            "text/plain": [
              "<IPython.core.display.Javascript object>"
            ],
            "application/javascript": [
              "(async (port, path, width, height, cache, element) => {\n",
              "    if (!google.colab.kernel.accessAllowed && !cache) {\n",
              "      return;\n",
              "    }\n",
              "    element.appendChild(document.createTextNode(''));\n",
              "    const url = await google.colab.kernel.proxyPort(port, {cache});\n",
              "    const iframe = document.createElement('iframe');\n",
              "    iframe.src = new URL(path, url).toString();\n",
              "    iframe.height = height;\n",
              "    iframe.width = width;\n",
              "    iframe.style.border = 0;\n",
              "    iframe.allow = [\n",
              "        'accelerometer',\n",
              "        'autoplay',\n",
              "        'camera',\n",
              "        'clipboard-read',\n",
              "        'clipboard-write',\n",
              "        'gyroscope',\n",
              "        'magnetometer',\n",
              "        'microphone',\n",
              "        'serial',\n",
              "        'usb',\n",
              "        'xr-spatial-tracking',\n",
              "    ].join('; ');\n",
              "    element.appendChild(iframe);\n",
              "  })(8050, \"/\", \"100%\", \"400\", false, window.element)"
            ]
          },
          "metadata": {}
        }
      ],
      "source": [
        "thread = threading.Thread(target=app.run)\n",
        "thread.start()\n",
        "output.serve_kernel_port_as_iframe(port=8050)"
      ]
    }
  ],
  "metadata": {
    "colab": {
      "provenance": []
    },
    "kernelspec": {
      "display_name": "Python 3",
      "name": "python3"
    },
    "language_info": {
      "name": "python"
    }
  },
  "nbformat": 4,
  "nbformat_minor": 0
}